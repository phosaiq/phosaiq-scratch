{
 "cells": [
  {
   "cell_type": "markdown",
   "metadata": {},
   "source": [
    "# Image collection from Bing"
   ]
  },
  {
   "cell_type": "code",
   "execution_count": 2,
   "metadata": {},
   "outputs": [],
   "source": [
    "import hashlib\n",
    "import json\n",
    "import math\n",
    "import os\n",
    "import re\n",
    "import urllib\n",
    "\n",
    "import numpy as np\n",
    "import requests\n",
    "from tqdm import tqdm"
   ]
  },
  {
   "cell_type": "code",
   "execution_count": 3,
   "metadata": {},
   "outputs": [],
   "source": [
    "BING_API_KEY = 'YOUR_API_KEY'"
   ]
  },
  {
   "cell_type": "code",
   "execution_count": null,
   "metadata": {},
   "outputs": [],
   "source": [
    "project_name = \"cat\"\n",
    "\n",
    "path_save_dir = f'../data/{project_name}'\n",
    "os.makedirs(path_save_dir, exist_ok=True)\n",
    "\n",
    "path_image_dir = os.path.join(path_save_dir, 'images')\n",
    "os.makedirs(path_image_dir, exist_ok=True)"
   ]
  },
  {
   "cell_type": "code",
   "execution_count": 5,
   "metadata": {},
   "outputs": [],
   "source": [
    "def fetch_image_urls(\n",
    "    query: str, num_images_required: int, query_language: str = 'ja-JP', num_images_per_transaction: int = 30\n",
    ") -> list[str]:\n",
    "    if num_images_per_transaction > 150:\n",
    "        raise ValueError('num_images_per_transaction must be less than 150')\n",
    "    offset_count = math.floor(num_images_required / num_images_per_transaction)\n",
    "\n",
    "    endpoint = 'https://api.bing.microsoft.com/v7.0/images/search'\n",
    "    headers = {'Ocp-Apim-Subscription-Key': BING_API_KEY,\n",
    "            'Content-Type': 'multipart/form-data'}\n",
    "\n",
    "    image_infos = []\n",
    "    for offset in tqdm(np.arange(offset_count)):\n",
    "        params = {\n",
    "            'q': query, 'mkt': query_language, 'count': num_images_per_transaction,\n",
    "            'offset': offset * num_images_per_transaction,\n",
    "        }\n",
    "\n",
    "        try:\n",
    "            response = requests.get(endpoint, headers=headers, params=params)\n",
    "            response.raise_for_status()\n",
    "            image_infos.append(response.json())\n",
    "        except Exception as e:\n",
    "            print(e)\n",
    "            continue\n",
    "\n",
    "    urls = []\n",
    "    for info in image_infos:\n",
    "        for values in info['value']:\n",
    "            unquoted_url = urllib.parse.unquote(values['contentUrl'])\n",
    "            img_url = re.search(r'(http[^\\?]+)(\\?|.*)', unquoted_url)\n",
    "            if img_url:\n",
    "                urls.append(img_url.groups()[0])\n",
    "\n",
    "    return urls"
   ]
  },
  {
   "cell_type": "code",
   "execution_count": 34,
   "metadata": {},
   "outputs": [
    {
     "name": "stdout",
     "output_type": "stream",
     "text": [
      "# of images: 30\n"
     ]
    }
   ],
   "source": [
    "keyword = '猫'\n",
    "num_images_required = 50\n",
    "\n",
    "image_urls = fetch_image_urls(keyword, num_images_required)\n",
    "print(f'# of images: {len(image_urls)}')"
   ]
  },
  {
   "cell_type": "code",
   "execution_count": 30,
   "metadata": {},
   "outputs": [],
   "source": [
    "valid_extensions = ['jpg', 'jpeg', 'gif', 'png', 'bmp']\n",
    "\n",
    "image_url_paths = {}\n",
    "for url in image_urls:\n",
    "    image_extension = url.split('.')[-1]\n",
    "    if image_extension.lower() not in valid_extensions:\n",
    "        continue\n",
    "\n",
    "    hashed_url = hashlib.sha3_256(url.encode('utf-8')).hexdigest()\n",
    "    path_image = os.path.join(path_image_dir, hashed_url + '.' + image_extension.lower())\n",
    "    if url not in image_url_paths.keys():\n",
    "        image_url_paths[url] = path_image"
   ]
  },
  {
   "cell_type": "code",
   "execution_count": 27,
   "metadata": {},
   "outputs": [
    {
     "name": "stderr",
     "output_type": "stream",
     "text": [
      " 44%|████▍     | 12/27 [00:18<00:20,  1.33s/it]"
     ]
    },
    {
     "name": "stdout",
     "output_type": "stream",
     "text": [
      "HTTPConnectionPool(host='pic22.nipic.com', port=80): Max retries exceeded with url: /20120718/4499633_230543624000_2.jpg (Caused by NameResolutionError(\"<urllib3.connection.HTTPConnection object at 0x108df4290>: Failed to resolve 'pic22.nipic.com' ([Errno 8] nodename nor servname provided, or not known)\"))\n"
     ]
    },
    {
     "name": "stderr",
     "output_type": "stream",
     "text": [
      " 52%|█████▏    | 14/27 [00:20<00:12,  1.08it/s]"
     ]
    },
    {
     "name": "stdout",
     "output_type": "stream",
     "text": [
      "HTTPConnectionPool(host='pica.nipic.com', port=80): Max retries exceeded with url: /2008-05-29/2008529215619143_2.jpg (Caused by NameResolutionError(\"<urllib3.connection.HTTPConnection object at 0x10e756090>: Failed to resolve 'pica.nipic.com' ([Errno 8] nodename nor servname provided, or not known)\"))\n"
     ]
    },
    {
     "name": "stderr",
     "output_type": "stream",
     "text": [
      " 81%|████████▏ | 22/27 [00:42<00:07,  1.41s/it]"
     ]
    },
    {
     "name": "stdout",
     "output_type": "stream",
     "text": [
      "HTTPConnectionPool(host='pic14.nipic.com', port=80): Max retries exceeded with url: /20110506/3320946_063914334000_2.jpg (Caused by NameResolutionError(\"<urllib3.connection.HTTPConnection object at 0x10e755790>: Failed to resolve 'pic14.nipic.com' ([Errno 8] nodename nor servname provided, or not known)\"))\n"
     ]
    },
    {
     "name": "stderr",
     "output_type": "stream",
     "text": [
      "100%|██████████| 27/27 [00:52<00:00,  1.94s/it]\n"
     ]
    }
   ],
   "source": [
    "for url, path_image in tqdm(image_url_paths.items()):\n",
    "    try:\n",
    "        response = requests.get(url, allow_redirects=True, timeout=10)\n",
    "        if response.status_code != 200:\n",
    "            continue\n",
    "\n",
    "        with open(path_image, \"wb\") as f:\n",
    "            f.write(response.content)\n",
    "\n",
    "    except Exception as e:\n",
    "        print(e)\n",
    "        continue"
   ]
  },
  {
   "cell_type": "code",
   "execution_count": 39,
   "metadata": {},
   "outputs": [],
   "source": [
    "metadata = {}\n",
    "metadata['keyword'] = keyword\n",
    "metadata[\"image_url_paths\"] = {url: path for url, path in image_url_paths.items() if os.path.exists(path)}\n",
    "\n",
    "with open(os.path.join(path_save_dir, 'metadata.json'), mode='w') as f:\n",
    "    json.dump(metadata, f, indent=4, separators=(',', ': '))"
   ]
  },
  {
   "cell_type": "code",
   "execution_count": null,
   "metadata": {},
   "outputs": [],
   "source": []
  }
 ],
 "metadata": {
  "kernelspec": {
   "display_name": ".venv",
   "language": "python",
   "name": "python3"
  },
  "language_info": {
   "codemirror_mode": {
    "name": "ipython",
    "version": 3
   },
   "file_extension": ".py",
   "mimetype": "text/x-python",
   "name": "python",
   "nbconvert_exporter": "python",
   "pygments_lexer": "ipython3",
   "version": "3.11.5"
  }
 },
 "nbformat": 4,
 "nbformat_minor": 2
}
